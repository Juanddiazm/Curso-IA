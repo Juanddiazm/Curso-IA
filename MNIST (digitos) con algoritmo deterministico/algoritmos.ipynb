{
 "cells": [
  {
   "cell_type": "markdown",
   "metadata": {},
   "source": [
    "## Algoritmo 1: Juan Diaz Monsalve"
   ]
  },
  {
   "cell_type": "code",
   "execution_count": 18,
   "metadata": {},
   "outputs": [],
   "source": [
    "from sklearn.datasets import load_digits\n",
    "import pylab as pl\n",
    "import sklearn\n",
    "import array\n",
    "import sklearn.metrics as metrics\n",
    "import numpy as np\n",
    "import math"
   ]
  },
  {
   "cell_type": "code",
   "execution_count": 19,
   "metadata": {},
   "outputs": [
    {
     "name": "stdout",
     "output_type": "stream",
     "text": [
      "Cantidad de 2 en los datos: 177\n",
      "Cantidad de 8 en los datos: 174\n",
      "Cantidad de datos: 1797\n"
     ]
    }
   ],
   "source": [
    "#Este metodo me guarda los indices donde esta el dos en digits.image\n",
    "digits = load_digits()\n",
    "numImagenes = len(digits.images)\n",
    "y = digits.target # el método nos provee las etiquetas de las imágenes en un arreglo\n",
    "indicesOF2 = array.array('i',[])\n",
    "indicesOF8 = array.array('i',[])\n",
    "def getAllInd ():\n",
    "    \n",
    "    j=0\n",
    "    k=0\n",
    "    for i in y:\n",
    "        if(i==2):\n",
    "            indicesOF2.append(j)\n",
    "            \n",
    "        if(i==8):\n",
    "            indicesOF8.append(j)\n",
    "        j=j+1\n",
    "    #print(indicesOF2)\n",
    "    print(\"Cantidad de 2 en los datos: \"+str(len(indicesOF2)))\n",
    "    print(\"Cantidad de 8 en los datos: \"+str(len(indicesOF8)))\n",
    "    print(\"Cantidad de datos: \"+str(len(digits.images)))\n",
    "    #for i in indicesOF2:\n",
    "        #print(y[i])\n",
    "        \n",
    "\n",
    "getAllInd()\n"
   ]
  },
  {
   "cell_type": "code",
   "execution_count": 20,
   "metadata": {},
   "outputs": [
    {
     "name": "stdout",
     "output_type": "stream",
     "text": [
      "Para el 2\n",
      "[[0.00000000e+00 7.23404255e-01 9.14184397e+00 1.41560284e+01\n",
      "  1.05390071e+01 2.86524823e+00 1.34751773e-01 0.00000000e+00]\n",
      " [1.41843972e-02 4.94326241e+00 1.38581560e+01 1.18652482e+01\n",
      "  1.29432624e+01 6.17021277e+00 5.03546099e-01 0.00000000e+00]\n",
      " [7.09219858e-03 4.53900709e+00 8.21276596e+00 4.47517730e+00\n",
      "  1.17517730e+01 6.40425532e+00 5.17730496e-01 0.00000000e+00]\n",
      " [0.00000000e+00 1.03546099e+00 2.04255319e+00 4.85106383e+00\n",
      "  1.23900709e+01 4.65957447e+00 2.34042553e-01 0.00000000e+00]\n",
      " [0.00000000e+00 8.51063830e-02 1.49645390e+00 9.00709220e+00\n",
      "  1.05177305e+01 2.28368794e+00 4.25531915e-02 0.00000000e+00]\n",
      " [0.00000000e+00 7.65957447e-01 5.75177305e+00 1.15106383e+01\n",
      "  6.92198582e+00 1.53191489e+00 7.44680851e-01 0.00000000e+00]\n",
      " [2.12765957e-02 1.51063830e+00 1.10000000e+01 1.39929078e+01\n",
      "  1.15177305e+01 9.90070922e+00 6.46808511e+00 6.59574468e-01]\n",
      " [7.09219858e-03 7.23404255e-01 9.56737589e+00 1.39503546e+01\n",
      "  1.37021277e+01 1.26737589e+01 8.85106383e+00 2.27659574e+00]]\n",
      "Para el 8\n",
      "[[0.00000000e+00 1.51079137e-01 5.26618705e+00 1.17769784e+01\n",
      "  1.25899281e+01 6.38129496e+00 4.38848921e-01 0.00000000e+00]\n",
      " [3.59712230e-02 2.12949640e+00 1.24892086e+01 1.13741007e+01\n",
      "  9.86330935e+00 1.18992806e+01 2.06474820e+00 0.00000000e+00]\n",
      " [7.19424460e-03 3.18705036e+00 1.15971223e+01 7.15827338e+00\n",
      "  8.16546763e+00 1.17266187e+01 1.90647482e+00 0.00000000e+00]\n",
      " [0.00000000e+00 1.16546763e+00 8.36690647e+00 1.32374101e+01\n",
      "  1.33381295e+01 6.90647482e+00 5.53956835e-01 0.00000000e+00]\n",
      " [0.00000000e+00 3.23741007e-01 6.90647482e+00 1.45539568e+01\n",
      "  1.28273381e+01 3.71942446e+00 5.75539568e-02 0.00000000e+00]\n",
      " [0.00000000e+00 1.17266187e+00 1.12517986e+01 8.64748201e+00\n",
      "  9.46762590e+00 8.25899281e+00 1.26618705e+00 0.00000000e+00]\n",
      " [0.00000000e+00 9.78417266e-01 1.15683453e+01 7.77697842e+00\n",
      "  8.24460432e+00 9.56115108e+00 2.66187050e+00 7.19424460e-03]\n",
      " [0.00000000e+00 1.36690647e-01 5.26618705e+00 1.28273381e+01\n",
      "  1.31294964e+01 7.21582734e+00 1.48201439e+00 1.43884892e-02]]\n"
     ]
    },
    {
     "data": {
      "text/plain": [
       "<Figure size 432x288 with 0 Axes>"
      ]
     },
     "metadata": {},
     "output_type": "display_data"
    },
    {
     "data": {
      "image/png": "[encoded data removed]",
      "text/plain": [
       "<Figure size 288x288 with 1 Axes>"
      ]
     },
     "metadata": {},
     "output_type": "display_data"
    },
    {
     "data": {
      "image/png": "[encoded data removed]",
      "text/plain": [
       "<Figure size 288x288 with 1 Axes>"
      ]
     },
     "metadata": {},
     "output_type": "display_data"
    }
   ],
   "source": [
    "#Este codigo calcula la matriz promedio del dos\n",
    "lenghtForDataTraining2 = math.floor(len(indicesOF2)*0.8)\n",
    "lenghtForTest2 = len(indicesOF2) - lenghtForDataTraining2\n",
    "\n",
    "lenghtForDataTraining8 = math.floor(len(indicesOF8)*0.8)\n",
    "lenghtForTest8 = len(indicesOF8) - lenghtForDataTraining8\n",
    "\n",
    "dataTraining2 = array.array('i')\n",
    "dataTest2 = array.array('i')\n",
    "\n",
    "dataTraining8 = array.array('i')\n",
    "dataTest8 = array.array('i')\n",
    "for i in range(0,lenghtForDataTraining2):\n",
    "    dataTraining2.append(indicesOF2[i])\n",
    "\n",
    "for i in range(lenghtForDataTraining2,len(indicesOF2)):\n",
    "    dataTest2.append(indicesOF2[i])\n",
    "    \n",
    "for i in range(0,lenghtForDataTraining8):\n",
    "    dataTraining8.append(indicesOF8[i])\n",
    "\n",
    "for i in range(lenghtForDataTraining8,len(indicesOF8)):\n",
    "    dataTest8.append(indicesOF8[i])\n",
    "\n",
    "quantMatrix2= lenghtForDataTraining2\n",
    "matrixResult2= digits.images[2]\n",
    "for i in dataTraining2:\n",
    "    matrixResult2= matrixResult2 + digits.images[i]\n",
    "matrixResult2 = matrixResult2/quantMatrix2\n",
    "\n",
    "quantMatrix8= lenghtForDataTraining8\n",
    "matrixResult8= digits.images[8]\n",
    "for i in dataTraining8:\n",
    "    matrixResult8= matrixResult8 + digits.images[i]\n",
    "matrixResult8 = matrixResult8/quantMatrix8\n",
    "\n",
    "pl.gray()\n",
    "pl.matshow(matrixResult2) # Imprimir una imagen dada\n",
    "print(\"Para el 2\")\n",
    "print(matrixResult2) \n",
    "\n",
    "pl.matshow(matrixResult8) # Imprimir una imagen dada\n",
    "print(\"Para el 8\")\n",
    "print(matrixResult8) "
   ]
  },
  {
   "cell_type": "code",
   "execution_count": 21,
   "metadata": {},
   "outputs": [
    {
     "data": {
      "text/plain": [
       "<matplotlib.image.AxesImage at 0x2b335269e80>"
      ]
     },
     "execution_count": 21,
     "metadata": {},
     "output_type": "execute_result"
    },
    {
     "data": {
      "image/png": "[encoded data removed]",
      "text/plain": [
       "<Figure size 288x288 with 1 Axes>"
      ]
     },
     "metadata": {},
     "output_type": "display_data"
    },
    {
     "data": {
      "image/png": "[encoded data removed]",
      "text/plain": [
       "<Figure size 288x288 with 1 Axes>"
      ]
     },
     "metadata": {},
     "output_type": "display_data"
    }
   ],
   "source": [
    "#Me muestra como queda si solo muestro los pixeles que cumplen un criterio\n",
    "pl.matshow(matrixResult2>11)\n",
    "\n",
    "pl.matshow(matrixResult8>11)"
   ]
  },
  {
   "cell_type": "code",
   "execution_count": 22,
   "metadata": {
    "scrolled": true
   },
   "outputs": [
    {
     "data": {
      "text/plain": [
       "(72.22222222222221, 60.0, 'Total promediado: 66.11111111111111')"
      ]
     },
     "execution_count": 22,
     "metadata": {},
     "output_type": "execute_result"
    }
   ],
   "source": [
    "#Lanza true si cree que es un 2, false de lo contrario\n",
    "def verifIsTwo(matrixTwo):\n",
    "    matrixTem = matrixResult2> 11\n",
    "    isTwo= \"true\"\n",
    "    for i in range(0,8):\n",
    "        for j in range(0,8):\n",
    "            if(matrixTem[i][j]==1 and matrixTwo[i][j]<3):\n",
    "                isTwo = \"false\"\n",
    "    return isTwo\n",
    "\n",
    "def verifIsEight(matrixEight):\n",
    "    matrixTem8 = matrixResult8> 11\n",
    "    isEight= \"true\"\n",
    "    for i in range(0,8):\n",
    "        for j in range(0,8):\n",
    "            if(matrixTem8[i][j]==1 and matrixEight[i][j]<1):\n",
    "                isEight = \"false\"\n",
    "    return isEight\n",
    "\n",
    "#Usa el anterior pasandole todos las matrices con 2 y luego todas las matrices \n",
    "def hitPerc():\n",
    "    k=0\n",
    "    w=0\n",
    "    for i in dataTest2:\n",
    "        if(verifIsTwo(digits.images[i])==\"true\"):\n",
    "            k=k+1\n",
    "    \n",
    "    for i in dataTest8:\n",
    "        if(verifIsEight(digits.images[i])==\"true\"):\n",
    "            w=w+1\n",
    "    \n",
    "    accuracy2=(k/len(dataTest2)) * 100\n",
    "    accuracy8= (w/len(dataTest8)) * 100\n",
    "    return (accuracy2, accuracy8, \"Total promediado: \" + str((accuracy2 + accuracy8)/2))\n",
    "\n",
    "\n",
    "hitPerc()    "
   ]
  },
  {
   "cell_type": "code",
   "execution_count": 23,
   "metadata": {},
   "outputs": [],
   "source": [
    "def getFalsePositive():\n",
    "    percentOFTwo= len(indicesOF2)/len(digits.images) *100\n",
    "    twoIdentify, totalIdentify = hitPerc();\n",
    "    numberIdentifyTwo= len(indicesOF2)*(twoIdentify/100)\n",
    "    numberIdetify= len(digits.images)*(totalIdentify/100)\n",
    "    falsePositive= numberIdetify - numberIdentifyTwo\n",
    "    percentFasePositive= falsePositive/len(digits.images) * 100\n",
    "    return percentFasePositive"
   ]
  },
  {
   "cell_type": "markdown",
   "metadata": {},
   "source": [
    "Despues de ejecutar el codigo se obtuvo un 72.22% de aciertos verificando que un dos, cuando se testea (20%) el modelo.\n",
    "El modelo de \"entreno\" con el 80% de numeros 2 disponibles.\n",
    "\n",
    "Se obtuvo un 60.0% de aciertos verificando el 8, cuando se testea (20%) el modelo. El modelo se entreno con el 80% de numeros 8 disponibles."
   ]
  },
  {
   "cell_type": "markdown",
   "metadata": {},
   "source": [
    "## Algoritmo 2: Kevin Balanta Muñoz"
   ]
  },
  {
   "cell_type": "code",
   "execution_count": 24,
   "metadata": {},
   "outputs": [],
   "source": [
    "#método que identifica las matrices que representan el dígito 8\n",
    "def isTheEight(x):\n",
    "   \n",
    "    mu=0\n",
    "    md = 0\n",
    "    mitad = 0\n",
    "    test = -1\n",
    "    menoramayor = True\n",
    "    actual = 0\n",
    "    #se obtiene la mitad de la matriz\n",
    "    if len(x)%2 == 0 :\n",
    "        mitad = int(len(x)/2)\n",
    "    else:\n",
    "        mitad = int((len(x)/2)+1)\n",
    "    #se recorre las filas  matriz\n",
    "    for i in range(0,mitad) :\n",
    "        actual=0\n",
    "        #se recorren las columnas de la matriz\n",
    "        for j in range(0,len(x[0])):\n",
    "            #si es el primer recorrido test=-1\n",
    "            if(test == -1):\n",
    "                #se obtiene el primer valor de la matriz\n",
    "                test = x[i][j]\n",
    "            #sino es el primer recorrido entonces se mira el patrón\n",
    "            #el patrón definido para identificar el 8 es que se trazan lineas horizontales (imaginarias), entonces el patrón debe\n",
    "            #de ser \"ascendente - descendente - ascendente\" como mínimo (notese que el descendente corresponde al hueco de alguno de los circulos del 8)\n",
    "            #entonces para resumir: la dinamica consiste en que se intenta dividir el 8 en en dos partes a la mitad de la matriz, luego por cada mitad se analiza los patrones descritos\n",
    "            #que corresponden al digito 8 (haciendo cortes horizontales a lo largo del número)\n",
    "\n",
    "            \n",
    "            else:\n",
    "                if(test<x[i][j] and menoramayor == True):\n",
    "                    \n",
    "                    test = x[i][j]\n",
    "                    actual+=1\n",
    "                    menoramayor= not menoramayor\n",
    "                elif(test>x[i][j] and menoramayor == False):\n",
    "                    test=x[i][j]\n",
    "                    actual+=1\n",
    "                    menoramayor=not menoramayor\n",
    "            \n",
    "            if(actual>=3):\n",
    "                mu+=1\n",
    "        \n",
    "        \n",
    "    test=-1\n",
    "    menoramayor=True\n",
    "    for i in range(mitad,len(x)):\n",
    "        actual=0\n",
    "        for j in range(0,len(x[0])):\n",
    "            if(test == -1):\n",
    "                test = x[i][j]\n",
    "            else:\n",
    "                if(test<x[i][j] and menoramayor==True ):\n",
    "                    test = x[i][j]\n",
    "                    actual+=1\n",
    "                    menoramayor= not menoramayor\n",
    "                elif(test>x[i][j] and menoramayor == False):\n",
    "                    test=x[i][j]\n",
    "                    actual+=1\n",
    "                    menoramayor= not menoramayor\n",
    "            \n",
    "       \n",
    "            if(actual>=3):\n",
    "                md+=1\n",
    "                \n",
    "        \n",
    "    \n",
    "    return (mu>1 and md>=1) or (md>1 and mu>=1)\n"
   ]
  },
  {
   "cell_type": "code",
   "execution_count": 25,
   "metadata": {},
   "outputs": [],
   "source": [
    "#aquí se crea la matriz booleana donde se identifican los 8´s \n",
    "y = digits.target\n",
    "xreal = []\n",
    "for i in range(0,len(y)):\n",
    "    if y[i] ==8:\n",
    "        xreal.append(True)\n",
    "    else:\n",
    "        xreal.append(False)"
   ]
  },
  {
   "cell_type": "code",
   "execution_count": 26,
   "metadata": {},
   "outputs": [
    {
     "data": {
      "text/plain": [
       "0.6766833611574847"
      ]
     },
     "execution_count": 26,
     "metadata": {},
     "output_type": "execute_result"
    }
   ],
   "source": [
    "#método que identifica los 8´s por medio del método isTheEight\n",
    "def prediccion():\n",
    "    xx = []\n",
    "    for i in range(0,len(digits.images)):\n",
    "        \n",
    "        if(isTheEight(digits.images[int(i)])):\n",
    "            \n",
    "            xx.append(True)\n",
    "        else:\n",
    "            \n",
    "            xx.append(False)\n",
    "    return xx\n",
    "#se obtiene el arreglo con la predicción\n",
    "xpredict = prediccion()\n",
    "\n",
    "#se obtiene la precision del método isTheEight\n",
    "metrics.accuracy_score(xreal, xpredict)\n",
    "\n",
    "\n"
   ]
  },
  {
   "cell_type": "markdown",
   "metadata": {},
   "source": [
    "se obtiene alrededor de una precisión del 67,6% sin una etapa de entrenamiento. Es decir, es un algoritmo No supervisado. Frente a un 72.2% de precisión de un algoritmo de aprendizaje supervisado."
   ]
  }
 ],
 "metadata": {
  "kernelspec": {
   "display_name": "Python 3",
   "language": "python",
   "name": "python3"
  },
  "language_info": {
   "codemirror_mode": {
    "name": "ipython",
    "version": 3
   },
   "file_extension": ".py",
   "mimetype": "text/x-python",
   "name": "python",
   "nbconvert_exporter": "python",
   "pygments_lexer": "ipython3",
   "version": "3.6.5"
  }
 },
 "nbformat": 4,
 "nbformat_minor": 2
}
