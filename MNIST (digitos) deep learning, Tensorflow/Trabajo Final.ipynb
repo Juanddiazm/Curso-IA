{
 "cells": [
  {
   "cell_type": "markdown",
   "metadata": {},
   "source": [
    "# Trabajo Final \n",
    "\n",
    "_Fecha: 16 de mayo 2019_\n",
    "\n",
    "Enviar un enlace a un repositorio de GitHub que contenga los trabajos realizados durante el semestre, la carpeta debe contener las siguientes entregas:\n",
    "\n",
    "+ MNIST (digitos) con algoritmo deterministico\n",
    "+ Tic-tac-toe\n",
    "+ Sistema experto\n",
    "+ Opcional (Artificial Life)\n",
    "+ MNIST (digitos) machine learning - Kmeans\n",
    "+ MNIST (digitos) deep learning, Tensorflow"
   ]
  },
  {
   "cell_type": "markdown",
   "metadata": {},
   "source": [
    "# MNIST (dígitos) deep learning, Tensorflow\n",
    "\n",
    "__Integrantes:__\n",
    "\n",
    "+ Nombre: Kevin Balanta\n",
    "+ Nombre: Juan Diaz\n",
    "\n",
    "\n",
    "Entrenar una red neuronal con el fin de detectar los dígitos de MNIST y comparar sus resultados contra el algoritmo determinístico y el modelo de machine learning kmeans.\n",
    "\n",
    "Evaluar los resultados contra dos medidas de evaluación (accuracy y tiempo de entramiento). Se recomienda realizar el hold-out con un 80% para entrenamiento y un conjunto de testeo del 20%.\n"
   ]
  },
  {
   "cell_type": "markdown",
   "metadata": {},
   "source": [
    "## Comparación contra el algoritmo deterministico"
   ]
  },
  {
   "cell_type": "code",
   "execution_count": 1,
   "metadata": {},
   "outputs": [],
   "source": [
    "from sklearn.datasets import load_digits\n",
    "import pylab as pl\n",
    "import sklearn\n",
    "import array\n",
    "import numpy as np\n",
    "import math"
   ]
  },
  {
   "cell_type": "code",
   "execution_count": 2,
   "metadata": {},
   "outputs": [
    {
     "name": "stdout",
     "output_type": "stream",
     "text": [
      "Cantidad de 2 en los datos: 177\n",
      "Cantidad de 8 en los datos: 174\n",
      "Cantidad de datos: 1797\n"
     ]
    }
   ],
   "source": [
    "#Este metodo me guarda los indices donde esta el dos en digits.image\n",
    "digits = load_digits()\n",
    "numImagenes = len(digits.images)\n",
    "y = digits.target # el método nos provee las etiquetas de las imágenes en un arreglo\n",
    "indicesOF2 = array.array('i',[])\n",
    "indicesOF8 = array.array('i',[])\n",
    "def getAllInd ():\n",
    "    \n",
    "    j=0\n",
    "    k=0\n",
    "    for i in y:\n",
    "        if(i==2):\n",
    "            indicesOF2.append(j)\n",
    "            \n",
    "        if(i==8):\n",
    "            indicesOF8.append(j)\n",
    "        j=j+1\n",
    "    #print(indicesOF2)\n",
    "    print(\"Cantidad de 2 en los datos: \"+str(len(indicesOF2)))\n",
    "    print(\"Cantidad de 8 en los datos: \"+str(len(indicesOF8)))\n",
    "    print(\"Cantidad de datos: \"+str(len(digits.images)))\n",
    "    #for i in indicesOF2:\n",
    "        #print(y[i])\n",
    "        \n",
    "\n",
    "getAllInd()\n"
   ]
  },
  {
   "cell_type": "code",
   "execution_count": 3,
   "metadata": {},
   "outputs": [
    {
     "name": "stdout",
     "output_type": "stream",
     "text": [
      "Para el 2\n",
      "Para el 8\n",
      "Wall time: 79.7 ms\n"
     ]
    },
    {
     "data": {
      "text/plain": [
       "<Figure size 432x288 with 0 Axes>"
      ]
     },
     "metadata": {},
     "output_type": "display_data"
    },
    {
     "data": {
      "image/png": "[encoded data removed]",
      "text/plain": [
       "<Figure size 288x288 with 1 Axes>"
      ]
     },
     "metadata": {
      "needs_background": "light"
     },
     "output_type": "display_data"
    },
    {
     "data": {
      "image/png": "[encoded data removed]",
      "text/plain": [
       "<Figure size 288x288 with 1 Axes>"
      ]
     },
     "metadata": {
      "needs_background": "light"
     },
     "output_type": "display_data"
    }
   ],
   "source": [
    "%%time\n",
    "lenghtForDataTraining2 = math.floor(len(indicesOF2)*0.8)\n",
    "lenghtForTest2 = len(indicesOF2) - lenghtForDataTraining2\n",
    "\n",
    "lenghtForDataTraining8 = math.floor(len(indicesOF8)*0.8)\n",
    "lenghtForTest8 = len(indicesOF8) - lenghtForDataTraining8\n",
    "\n",
    "dataTraining2 = array.array('i')\n",
    "dataTest2 = array.array('i')\n",
    "\n",
    "dataTraining8 = array.array('i')\n",
    "dataTest8 = array.array('i')\n",
    "for i in range(0,lenghtForDataTraining2):\n",
    "    dataTraining2.append(indicesOF2[i])\n",
    "\n",
    "for i in range(lenghtForDataTraining2,len(indicesOF2)):\n",
    "    dataTest2.append(indicesOF2[i])\n",
    "    \n",
    "for i in range(0,lenghtForDataTraining8):\n",
    "    dataTraining8.append(indicesOF8[i])\n",
    "\n",
    "for i in range(lenghtForDataTraining8,len(indicesOF8)):\n",
    "    dataTest8.append(indicesOF8[i])\n",
    "\n",
    "quantMatrix2= lenghtForDataTraining2\n",
    "matrixResult2= digits.images[2]\n",
    "for i in dataTraining2:\n",
    "    matrixResult2= matrixResult2 + digits.images[i]\n",
    "matrixResult2 = matrixResult2/quantMatrix2\n",
    "\n",
    "quantMatrix8= lenghtForDataTraining8\n",
    "matrixResult8= digits.images[8]\n",
    "for i in dataTraining8:\n",
    "    matrixResult8= matrixResult8 + digits.images[i]\n",
    "matrixResult8 = matrixResult8/quantMatrix8\n",
    "\n",
    "pl.gray()\n",
    "print(\"Para el 2\")\n",
    "pl.matshow(matrixResult2) # Imprimir una imagen dada\n",
    "\n",
    "print(\"Para el 8\")\n",
    "pl.matshow(matrixResult8) # Imprimir una imagen dada\n"
   ]
  },
  {
   "cell_type": "code",
   "execution_count": 4,
   "metadata": {},
   "outputs": [
    {
     "data": {
      "text/plain": [
       "<matplotlib.image.AxesImage at 0x261f7132358>"
      ]
     },
     "execution_count": 4,
     "metadata": {},
     "output_type": "execute_result"
    },
    {
     "data": {
      "image/png": "[encoded data removed]",
      "text/plain": [
       "<Figure size 288x288 with 1 Axes>"
      ]
     },
     "metadata": {
      "needs_background": "light"
     },
     "output_type": "display_data"
    },
    {
     "data": {
      "image/png": "[encoded data removed]",
      "text/plain": [
       "<Figure size 288x288 with 1 Axes>"
      ]
     },
     "metadata": {
      "needs_background": "light"
     },
     "output_type": "display_data"
    }
   ],
   "source": [
    "#Me muestra como queda si solo muestro los pixeles que cumplen un criterio\n",
    "pl.matshow(matrixResult2>11)\n",
    "\n",
    "pl.matshow(matrixResult8>11)"
   ]
  },
  {
   "cell_type": "code",
   "execution_count": 5,
   "metadata": {},
   "outputs": [
    {
     "data": {
      "text/plain": [
       "(72.22222222222221, 60.0, 'Total promediado: 66.11111111111111')"
      ]
     },
     "execution_count": 5,
     "metadata": {},
     "output_type": "execute_result"
    }
   ],
   "source": [
    "#Lanza true si cree que es un 2, false de lo contrario\n",
    "def verifIsTwo(matrixTwo):\n",
    "    matrixTem = matrixResult2> 11\n",
    "    isTwo= \"true\"\n",
    "    for i in range(0,8):\n",
    "        for j in range(0,8):\n",
    "            if(matrixTem[i][j]==1 and matrixTwo[i][j]<3):\n",
    "                isTwo = \"false\"\n",
    "    return isTwo\n",
    "\n",
    "def verifIsEight(matrixEight):\n",
    "    matrixTem8 = matrixResult8> 11\n",
    "    isEight= \"true\"\n",
    "    for i in range(0,8):\n",
    "        for j in range(0,8):\n",
    "            if(matrixTem8[i][j]==1 and matrixEight[i][j]<1):\n",
    "                isEight = \"false\"\n",
    "    return isEight\n",
    "\n",
    "#Usa el anterior pasandole todos las matrices con 2 y luego todas las matrices \n",
    "def hitPerc():\n",
    "    k=0\n",
    "    w=0\n",
    "    for i in dataTest2:\n",
    "        if(verifIsTwo(digits.images[i])==\"true\"):\n",
    "            k=k+1\n",
    "    \n",
    "    for i in dataTest8:\n",
    "        if(verifIsEight(digits.images[i])==\"true\"):\n",
    "            w=w+1\n",
    "    \n",
    "    accuracy2=(k/len(dataTest2)) * 100\n",
    "    accuracy8= (w/len(dataTest8)) * 100\n",
    "    return (accuracy2, accuracy8, \"Total promediado: \" + str((accuracy2 + accuracy8)/2))\n",
    "\n",
    "\n",
    "hitPerc()    "
   ]
  },
  {
   "cell_type": "markdown",
   "metadata": {},
   "source": [
    "Despues de ejecutar el codigo se obtuvo un 72.22% de aciertos verificando que un dos, cuando se testea (20%) el modelo.\n",
    "El modelo de \"entreno\" con el 80% de numeros 2 disponibles.\n",
    "\n",
    "Se obtuvo un 60.0% de aciertos verificando el 8, cuando se testea (20%) el modelo. El modelo se entreno con el 80% de numeros 8 disponibles.\n",
    "SE OBTIENE UN PROMEDIO GENERAL DE 66.111%"
   ]
  },
  {
   "cell_type": "markdown",
   "metadata": {},
   "source": [
    "## Comparación contra el mejor modelo KMeans"
   ]
  },
  {
   "cell_type": "code",
   "execution_count": 6,
   "metadata": {},
   "outputs": [],
   "source": [
    "from sklearn.datasets import load_digits\n",
    "import sklearn.metrics as metrics\n",
    "import pylab as pl\n",
    "import sklearn\n",
    "import math"
   ]
  },
  {
   "cell_type": "code",
   "execution_count": 7,
   "metadata": {},
   "outputs": [],
   "source": [
    "digits = load_digits()\n",
    "percentFit = 0.8\n",
    "numImagenes = len(digits.images)\n",
    "limitInferior =  math.floor(numImagenes*percentFit)+1\n",
    "limitSuperior = math.ceil(numImagenes*percentFit)"
   ]
  },
  {
   "cell_type": "code",
   "execution_count": 8,
   "metadata": {},
   "outputs": [],
   "source": [
    "y = digits.target[0 : limitInferior] # El método nos provee las etiquetas de las imágenes en un arreglo\n",
    "w = digits.target[limitSuperior :]\n",
    "X = digits.images[0 : limitInferior].reshape((len(y), -1)) # Se selecciona el porcentaje de entrenamiento.\n",
    "Z = digits.images[limitSuperior :].reshape((len(w),-1))"
   ]
  },
  {
   "cell_type": "code",
   "execution_count": 9,
   "metadata": {},
   "outputs": [
    {
     "name": "stdout",
     "output_type": "stream",
     "text": [
      "Wall time: 31.3 ms\n"
     ]
    }
   ],
   "source": [
    "%%time\n",
    "#from sklearn.model_selection import train_test_split\n",
    "from sklearn.neighbors import KNeighborsClassifier\n",
    "import sklearn.metrics as metrics\n",
    "import pylab as plt\n",
    "\n",
    "knn = KNeighborsClassifier(4)\n",
    "fit = knn.fit(X, y)"
   ]
  },
  {
   "cell_type": "markdown",
   "metadata": {},
   "source": [
    "Se pueden evaluar las clases estimadas por el modelo vs. las clases reales"
   ]
  },
  {
   "cell_type": "code",
   "execution_count": 10,
   "metadata": {},
   "outputs": [
    {
     "name": "stdout",
     "output_type": "stream",
     "text": [
      "Reales   : [3 4 5 6 7 8 9 0 9 5 5 6 5 0 9 8 9 8 4 1 7 7 3 5 1]\n",
      "Estimados: [3 4 5 6 7 8 9 0 9 5 5 6 5 0 9 8 9 8 4 1 7 7 3 5 1]\n"
     ]
    }
   ],
   "source": [
    "w_estimado = fit.predict(Z)\n",
    "print(\"Reales   :\", w[0:25])\n",
    "print(\"Estimados:\", w_estimado[0:25])"
   ]
  },
  {
   "cell_type": "code",
   "execution_count": 11,
   "metadata": {},
   "outputs": [
    {
     "data": {
      "image/png": "[encoded data removed]",
      "text/plain": [
       "<Figure size 432x288 with 15 Axes>"
      ]
     },
     "metadata": {
      "needs_background": "light"
     },
     "output_type": "display_data"
    }
   ],
   "source": [
    "images_and_predictions = list(zip(digits.images[limitSuperior :], w_estimado))\n",
    "for index, (image, prediction) in enumerate(images_and_predictions[:15]):\n",
    "    plt.subplot(3,5, index+1) #se crean los placeholders de 3x5 filasXcolumnas\n",
    "    plt.axis('off')  #se quitan los ejes\n",
    "    plt.imshow(image, cmap=plt.cm.gray_r)\n",
    "    plt.title('Pred: %i' % prediction)\n",
    "plt.show()"
   ]
  },
  {
   "cell_type": "code",
   "execution_count": 12,
   "metadata": {},
   "outputs": [
    {
     "data": {
      "text/plain": [
       "0.9665738161559888"
      ]
     },
     "execution_count": 12,
     "metadata": {},
     "output_type": "execute_result"
    }
   ],
   "source": [
    "metrics.accuracy_score(w, w_estimado)"
   ]
  },
  {
   "cell_type": "markdown",
   "metadata": {},
   "source": [
    "## Contra el modelo de la red neuronal"
   ]
  },
  {
   "cell_type": "code",
   "execution_count": 13,
   "metadata": {},
   "outputs": [
    {
     "name": "stdout",
     "output_type": "stream",
     "text": [
      "WARNING:tensorflow:From <ipython-input-13-79252d13122b>:5: read_data_sets (from tensorflow.contrib.learn.python.learn.datasets.mnist) is deprecated and will be removed in a future version.\n",
      "Instructions for updating:\n",
      "Please use alternatives such as official/mnist/dataset.py from tensorflow/models.\n",
      "WARNING:tensorflow:From D:\\Anaconda3\\lib\\site-packages\\tensorflow\\contrib\\learn\\python\\learn\\datasets\\mnist.py:260: maybe_download (from tensorflow.contrib.learn.python.learn.datasets.base) is deprecated and will be removed in a future version.\n",
      "Instructions for updating:\n",
      "Please write your own downloading logic.\n",
      "WARNING:tensorflow:From D:\\Anaconda3\\lib\\site-packages\\tensorflow\\contrib\\learn\\python\\learn\\datasets\\mnist.py:262: extract_images (from tensorflow.contrib.learn.python.learn.datasets.mnist) is deprecated and will be removed in a future version.\n",
      "Instructions for updating:\n",
      "Please use tf.data to implement this functionality.\n",
      "Extracting MNIST_data/train-images-idx3-ubyte.gz\n",
      "WARNING:tensorflow:From D:\\Anaconda3\\lib\\site-packages\\tensorflow\\contrib\\learn\\python\\learn\\datasets\\mnist.py:267: extract_labels (from tensorflow.contrib.learn.python.learn.datasets.mnist) is deprecated and will be removed in a future version.\n",
      "Instructions for updating:\n",
      "Please use tf.data to implement this functionality.\n",
      "Extracting MNIST_data/train-labels-idx1-ubyte.gz\n",
      "WARNING:tensorflow:From D:\\Anaconda3\\lib\\site-packages\\tensorflow\\contrib\\learn\\python\\learn\\datasets\\mnist.py:110: dense_to_one_hot (from tensorflow.contrib.learn.python.learn.datasets.mnist) is deprecated and will be removed in a future version.\n",
      "Instructions for updating:\n",
      "Please use tf.one_hot on tensors.\n",
      "Extracting MNIST_data/t10k-images-idx3-ubyte.gz\n",
      "Extracting MNIST_data/t10k-labels-idx1-ubyte.gz\n",
      "WARNING:tensorflow:From D:\\Anaconda3\\lib\\site-packages\\tensorflow\\contrib\\learn\\python\\learn\\datasets\\mnist.py:290: DataSet.__init__ (from tensorflow.contrib.learn.python.learn.datasets.mnist) is deprecated and will be removed in a future version.\n",
      "Instructions for updating:\n",
      "Please use alternatives such as official/mnist/dataset.py from tensorflow/models.\n"
     ]
    }
   ],
   "source": [
    "import tensorflow as tf\n",
    "from tensorflow.examples.tutorials.mnist import input_data\n",
    "\n",
    "# Read data\n",
    "mnist = input_data.read_data_sets(\"MNIST_data/\", one_hot=True)"
   ]
  },
  {
   "cell_type": "code",
   "execution_count": 14,
   "metadata": {},
   "outputs": [],
   "source": [
    "def layer(input, weigth_shape, bias_shape):\n",
    "    w_init = tf.random_normal_initializer(stddev= (2.0/weigth_shape[0]) ** 0.5)\n",
    "    bias_init = tf.constant_initializer(value=0)\n",
    "    W = tf.get_variable(\"W\", weigth_shape, initializer = w_init)\n",
    "    b = tf.get_variable(\"b\", bias_shape, initializer = bias_init)\n",
    "    return tf.nn.relu(tf.matmul(input, W) + b)"
   ]
  },
  {
   "cell_type": "code",
   "execution_count": 15,
   "metadata": {},
   "outputs": [],
   "source": [
    "def inference(x):     \n",
    "    with tf.variable_scope(\"hidden_1\"):\n",
    "        hidden_1 = layer(x , [784, 256], [256])\n",
    "    with tf.variable_scope(\"hidden_2\"):\n",
    "        hidden_2 = layer(hidden_1, [256, 256], [256])\n",
    "    with tf.variable_scope(\"output\"):\n",
    "        output = layer(hidden_2, [256, 10], [10])\n",
    "    return output"
   ]
  },
  {
   "cell_type": "code",
   "execution_count": 16,
   "metadata": {},
   "outputs": [],
   "source": [
    "def loss(output, y):\n",
    "    xentropy = tf.nn.softmax_cross_entropy_with_logits_v2(logits=output, labels=y)\n",
    "    loss = tf.reduce_mean(xentropy)\n",
    "    return loss"
   ]
  },
  {
   "cell_type": "code",
   "execution_count": 17,
   "metadata": {},
   "outputs": [],
   "source": [
    "def evaluate(output, y):\n",
    "    correct_prediction = tf.equal(tf.argmax(output, 1), tf.argmax(y, 1))\n",
    "    accuracy = tf.reduce_mean(tf.cast(correct_prediction, tf.float32))\n",
    "    tf.summary.scalar(\"validation\", accuracy)\n",
    "    return accuracy"
   ]
  },
  {
   "cell_type": "code",
   "execution_count": 18,
   "metadata": {},
   "outputs": [],
   "source": [
    "def training(cost, global_step):\n",
    "    tf.summary.scalar(\"cost\", cost)\n",
    "    optimizer = tf.train.GradientDescentOptimizer(learning_rate)\n",
    "    train_op = optimizer.minimize(cost, global_step=global_step)\n",
    "    return train_op"
   ]
  },
  {
   "cell_type": "code",
   "execution_count": 19,
   "metadata": {},
   "outputs": [
    {
     "name": "stdout",
     "output_type": "stream",
     "text": [
      "WARNING:tensorflow:From D:\\Anaconda3\\lib\\site-packages\\tensorflow\\python\\framework\\op_def_library.py:263: colocate_with (from tensorflow.python.framework.ops) is deprecated and will be removed in a future version.\n",
      "Instructions for updating:\n",
      "Colocations handled automatically by placer.\n",
      "Validation Error: 0.3500000238418579\n",
      "Validation Error: 0.16180002689361572\n",
      "Validation Error: 0.14219999313354492\n",
      "Validation Error: 0.13239997625350952\n",
      "Validation Error: 0.1290000081062317\n",
      "Validation Error: 0.1258000135421753\n",
      "WARNING:tensorflow:From D:\\Anaconda3\\lib\\site-packages\\tensorflow\\python\\training\\saver.py:966: remove_checkpoint (from tensorflow.python.training.checkpoint_management) is deprecated and will be removed in a future version.\n",
      "Instructions for updating:\n",
      "Use standard file APIs to delete files with this prefix.\n",
      "Validation Error: 0.12379997968673706\n",
      "Validation Error: 0.12099999189376831\n",
      "Validation Error: 0.12120002508163452\n",
      "Validation Error: 0.11879998445510864\n",
      "Validation Error: 0.11860001087188721\n",
      "Validation Error: 0.11720001697540283\n",
      "Validation Error: 0.11640000343322754\n",
      "Validation Error: 0.11599999666213989\n",
      "Validation Error: 0.11460000276565552\n",
      "Validation Error: 0.11580002307891846\n",
      "Validation Error: 0.11500000953674316\n",
      "Validation Error: 0.11440002918243408\n",
      "Validation Error: 0.11360001564025879\n",
      "Validation Error: 0.11460000276565552\n",
      "Validation Error: 0.11419999599456787\n",
      "Validation Error: 0.11400002241134644\n",
      "Validation Error: 0.11320000886917114\n",
      "Validation Error: 0.11379998922348022\n",
      "Validation Error: 0.11339998245239258\n",
      "Validation Error: 0.11400002241134644\n",
      "Validation Error: 0.11379998922348022\n",
      "Validation Error: 0.11360001564025879\n",
      "Validation Error: 0.11360001564025879\n",
      "Validation Error: 0.11299997568130493\n",
      "Validation Error: 0.11479997634887695\n",
      "Validation Error: 0.11320000886917114\n",
      "Validation Error: 0.1128000020980835\n",
      "Validation Error: 0.11299997568130493\n",
      "Validation Error: 0.11299997568130493\n",
      "Validation Error: 0.11360001564025879\n",
      "Validation Error: 0.11360001564025879\n",
      "Validation Error: 0.11379998922348022\n",
      "Validation Error: 0.11299997568130493\n",
      "Validation Error: 0.1128000020980835\n",
      "Validation Error: 0.11320000886917114\n",
      "Validation Error: 0.11360001564025879\n",
      "Validation Error: 0.11299997568130493\n",
      "Validation Error: 0.1128000020980835\n",
      "Validation Error: 0.11299997568130493\n",
      "Validation Error: 0.11320000886917114\n",
      "Validation Error: 0.1128000020980835\n",
      "Validation Error: 0.11299997568130493\n",
      "Validation Error: 0.11299997568130493\n",
      "Validation Error: 0.11320000886917114\n",
      "Validation Error: 0.11400002241134644\n",
      "Validation Error: 0.1128000020980835\n",
      "Validation Error: 0.11320000886917114\n",
      "Validation Error: 0.11320000886917114\n",
      "Validation Error: 0.11299997568130493\n",
      "Validation Error: 0.11299997568130493\n",
      "Validation Error: 0.11299997568130493\n",
      "Validation Error: 0.11320000886917114\n",
      "Validation Error: 0.11339998245239258\n",
      "Validation Error: 0.11339998245239258\n",
      "Optimization Finished!\n",
      "Wall time: 27min 53s\n"
     ]
    }
   ],
   "source": [
    "%%time\n",
    "import tensorflow as tf\n",
    "# Parameters\n",
    "\n",
    "learning_rate = 0.01\n",
    "training_epochs = 300\n",
    "batch_size = 100\n",
    "display_step = 5\n",
    "train_losses, test_losses = [], []\n",
    "\n",
    "\n",
    "with tf.Graph().as_default():\n",
    "    # mnist data image of shape 28*28=784\n",
    "    x = tf.placeholder(tf.float32, [None, 784])    \n",
    "    # 0-9 digits recognition => 10 classes\n",
    "    y = tf.placeholder(tf.float32, [None, 10])    \n",
    "    output = inference(x)    \n",
    "    cost = loss(output, y) \n",
    "    \n",
    "    global_step = tf.Variable(0, name='global_step', trainable=False)    \n",
    "    train_op = training(cost, global_step)    \n",
    "    eval_op = evaluate(output, y)\n",
    "    \n",
    "    summary_op = tf.summary.merge_all()    \n",
    "    saver = tf.train.Saver()\n",
    "    \n",
    "    sess = tf.Session()    \n",
    "    summary_writer = tf.summary.FileWriter(\"mnist_logs/\", graph=sess.graph)\n",
    "    \n",
    "    init_op = tf.global_variables_initializer()    \n",
    "    sess.run(init_op)\n",
    "    \n",
    "    # Training cycle\n",
    "    for epoch in range(training_epochs):\n",
    "        avg_cost = 0.\n",
    "        total_batch = int(mnist.train.num_examples/batch_size)\n",
    "        # Loop over all batches\n",
    "        for i in range(total_batch):\n",
    "            mbatch_x, mbatch_y = mnist.train.next_batch(batch_size)\n",
    "            # Fit training using batch data\n",
    "            feed_dict = {x : mbatch_x, y : mbatch_y}\n",
    "            sess.run(train_op, feed_dict=feed_dict)\n",
    "            # Compute average loss\n",
    "            minibatch_cost = sess.run(cost, feed_dict=feed_dict)\n",
    "            avg_cost += minibatch_cost/total_batch\n",
    "            \n",
    "        # Display logs per epoch step\n",
    "        if epoch % display_step == 0:\n",
    "            val_feed_dict = {\n",
    "                x : mnist.validation.images,\n",
    "                y : mnist.validation.labels\n",
    "            }\n",
    "            accuracy = sess.run(eval_op, feed_dict=val_feed_dict)\n",
    "            print (\"Validation Error:\", (1 - accuracy))\n",
    "            train_losses.append(1 - accuracy)\n",
    "            summary_str = sess.run(summary_op, feed_dict=feed_dict)\n",
    "            summary_writer.add_summary(summary_str, sess.run(global_step))\n",
    "            \n",
    "            saver.save(sess, \"mnist_logs/model-checkpoint\", global_step=global_step)\n",
    "            \n",
    "    print(\"Optimization Finished!\")\n",
    "    \n",
    "    test_feed_dict = {\n",
    "        x : mnist.test.images,\n",
    "        y : mnist.test.labels\n",
    "    }\n",
    "   accuracy = sess.run(eval_op, feed_dict=test_feed_dict)\n",
    "    #writer = tf.summary.FileWriter(\"logistic_logs3/\", graph=sess.graph)\n",
    "    #writer.add_graph(tf.get_default_graph())\n",
    "    print(\"Test Accuracy:\", accuracy)"
   ]
  },
  {
   "cell_type": "code",
   "execution_count": 20,
   "metadata": {},
   "outputs": [
    {
     "ename": "IndentationError",
     "evalue": "unexpected indent (<ipython-input-20-59840218861d>, line 4)",
     "output_type": "error",
     "traceback": [
      "\u001b[1;36m  File \u001b[1;32m\"<ipython-input-20-59840218861d>\"\u001b[1;36m, line \u001b[1;32m4\u001b[0m\n\u001b[1;33m    print(\"Test Accuracy:\", accuracy)\u001b[0m\n\u001b[1;37m    ^\u001b[0m\n\u001b[1;31mIndentationError\u001b[0m\u001b[1;31m:\u001b[0m unexpected indent\n"
     ]
    }
   ],
   "source": [
    " "
   ]
  },
  {
   "cell_type": "code",
   "execution_count": null,
   "metadata": {},
   "outputs": [],
   "source": []
  },
  {
   "cell_type": "markdown",
   "metadata": {},
   "source": [
    "## Conclusiones"
   ]
  },
  {
   "cell_type": "markdown",
   "metadata": {},
   "source": [
    "ACCURACY:\n",
    "\n",
    "Para el problema de determininar que digito es el que esta representado en una matriz, podemos emplear distintos metodos. Nosotros en el transcurso de el laboratorio, realizamos y analizamos diferentes modelos para enfrentar este problema.\n",
    "Cuando usamos un algoritmo deterministico de la programacion tradicional obtenemos un resultado de 66.11% en promedio al querer predecir matrices que representaban el numero 2 y 8. Obtuvimos un resultado de 96.65% usando el modelo de KNN y 97.64% usando una red neuronal. Como se puede evidenciar los resultados obtenidos empleando un modelo basado en inteligencia artificial son mucho mas precisos realizando la predicción.\n",
    "\n",
    "El algoritmo deterministico empleado para predecir que numero representa una matriz, posee una precision muy inferior a los otros dos modelos comparados, dado que lo que hace es comparar una nueva entrada con una matriz promediada que usa como referencia. La debilidad radica en que hay diferentes maneras de representar un numero en una matriz y no todos siguen el mismo esquema que posee la matriz de referencia, lo que produce resultados inferiores.\n",
    "\n",
    "El modelo de KNN resulta muy preciso dado que una vez entrenado el modelo y entra un dato nuevo que se quiere predecir, el modelo compara con los datos que ya posee verificando que datos se acercan mas la nueva entrada es decir el modelo compara la entrada con los \"vecinos mas cercanos\" para clasificar la nueva entrada. De esta forma puede predecir con base en lo que ya \"conoce\". \n",
    "\n",
    "El modelo de la red neuronal resulta un poco mas preciso que el modelo KNN dado que es un modelo mas potente. Esto debido a  que la union de muchas neuronas pueden modelar y clasificar informacion de forma mas precisa y completa. Cada neurona es una unidad de clasificacion que usa una regresion lineal combinado con una funcion de activacion que permite realizar deformaciones no lineales, esto permite encadenar varias neuronas evitando obtener siempre un resultado lineal. Esto aunado  a el uso del algoritmo de Backpropagation que usa el concepto de gradiente para irse ajustando y en cada iteracion mejorar los resultados de la red disminiyendo los errores. Lo anteriormente mencionado hacen de las redes neuronales un modelo mucho mas robusto y capaz de clasificar y tomar desiciones.\n",
    "\n",
    "\n",
    "TIME:\n",
    "\n",
    "el tiempo de entrenamiento de cada algoritmo es diferente, debido a que cada uno utiliza una estrategia distinta para su entrenamiento. Por el lado del algoritmo determinístico, su entrenamiento consiste en crear una matriz promedio para todos los datos de entrenamiento dados de un número, donde su tiempo es de 79.7 ms, solamente para matrices correspondientes a  los numeros 2 y 8.\n",
    "\n",
    "Por otro lado, el algoritmo de KNN cuenta con un mecanismo distinto de entrenamiento. Éste consiste en que ubica a los elementos de entrenamiento según los valores de los atributos que se tienen en cuenta para la clasificación. Donde para realizar la predicción, no se ha creado un modelo previamente, si no  que se utiliza cada uno de los elementos para clasificar el objeto de estudio. Esta es una de las razones por la que es considerado un algoritmo con un costo considerable para procesamiento. El algoritmo tuvo un tiempo de entrenamiento de 31.3 ms para un 80% de los datos totales usados.\n",
    "\n",
    "Por último, la red neuronal \"perceptrón\" es el algoritmo que más tiempo tomó para su entrenamiento. Esto debido a que, su entrenamiento consiste en ir variando los pesos que se le otorga a cada entrada para que el error de precisión sea el minimo. Este proceso se realiza iterativamente, teniendo en cuenta los diferentes pesos de cada atributo. Para el 80% de los datos utilizados en entrenamiento, el algoritmo tardó cerca de 27 min 53 s.\n",
    "\n",
    "Los anteriores tiempos pueden variar debido a factores como la CPU. Comparando el algoritmo KNN con el de redes neuronales que tuvieron una precisión de más del 95%, el tiempo de las redes neuronales es mucho mayor. Sin embargo, la red neuronal es un método que tiene un uso más amplio y preciso que el de KNN, así que la utilización de cada uno ya dependerá de factores como: la naturaleza del problema, recursos computacionales disponibles y la cantidad de los datos.\n",
    "\n",
    "\n"
   ]
  },
  {
   "cell_type": "code",
   "execution_count": null,
   "metadata": {},
   "outputs": [],
   "source": []
  }
 ],
 "metadata": {
  "kernelspec": {
   "display_name": "Python 3",
   "language": "python",
   "name": "python3"
  },
  "language_info": {
   "codemirror_mode": {
    "name": "ipython",
    "version": 3
   },
   "file_extension": ".py",
   "mimetype": "text/x-python",
   "name": "python",
   "nbconvert_exporter": "python",
   "pygments_lexer": "ipython3",
   "version": "3.6.5"
  }
 },
 "nbformat": 4,
 "nbformat_minor": 2
}
